{
  "cells": [
    {
      "cell_type": "code",
      "execution_count": 18,
      "metadata": {
        "id": "qMUALASLNW-P"
      },
      "outputs": [],
      "source": [
        "### SALAL ALI KHAN (202307216)\n",
        "### NOTEE: PLEASE HAVE SOME PATIENCE WHILE RUNING THE CODE IT MAY TAKE TIME.\n",
        "\n",
        "import tensorflow as tf\n",
        "from tensorflow.keras import layers, models\n",
        "from tensorflow.keras.datasets import cifar100\n",
        "from tensorflow.keras.optimizers import RMSprop\n",
        "from tensorflow.keras.callbacks import LearningRateScheduler\n",
        "from tqdm import tqdm\n",
        "from tabulate import tabulate"
      ]
    },
    {
      "cell_type": "code",
      "execution_count": 19,
      "metadata": {
        "id": "a1-TYo75OB1j"
      },
      "outputs": [],
      "source": [
        "# Defining the CNN model\n",
        "def create_cnn_model(num_conv_layers, num_pooling_layers):\n",
        "    model = models.Sequential()\n",
        "    model.add(layers.Input(shape=(32, 32, 3)))\n",
        "    model.add(layers.Conv2D(32, (3, 3), activation='relu'))\n",
        "    model.add(layers.MaxPooling2D((2, 2)))\n",
        "\n",
        "    for _ in range(num_conv_layers - 1):\n",
        "        model.add(layers.Conv2D(64, (3, 3), activation='relu'))\n",
        "        model.add(layers.MaxPooling2D((2, 2)))\n",
        "\n",
        "    model.add(layers.Flatten())\n",
        "    model.add(layers.Dense(64, activation='relu'))\n",
        "    model.add(layers.Dense(100, activation='softmax'))  \n",
        "\n",
        "    return model"
      ]
    },
    {
      "cell_type": "code",
      "execution_count": 20,
      "metadata": {
        "colab": {
          "base_uri": "https://localhost:8080/"
        },
        "id": "A6mOysZyOFfo",
        "outputId": "8de9c6df-5992-4af6-bd7d-26ce4dd64c8b"
      },
      "outputs": [
        {
          "name": "stdout",
          "output_type": "stream",
          "text": [
            "CIFAR-100 dataset loaded successfully.\n"
          ]
        },
        {
          "name": "stderr",
          "output_type": "stream",
          "text": [
            "  0%|          | 0/3 [00:00<?, ?it/s]\n",
            "  0%|          | 0/2 [00:00<?, ?it/s]\u001b[A"
          ]
        },
        {
          "name": "stdout",
          "output_type": "stream",
          "text": [
            "\n",
            "Experiment with 2 convolutional layers and 1 pooling layers:\n",
            "Epoch 1/7\n",
            "782/782 [==============================] - 34s 43ms/step - loss: 4.1835 - accuracy: 0.0638 - val_loss: 4.2490 - val_accuracy: 0.0767 - lr: 0.0098\n",
            "Epoch 2/7\n",
            "782/782 [==============================] - 33s 42ms/step - loss: 3.6861 - accuracy: 0.1389 - val_loss: 4.2951 - val_accuracy: 0.0735 - lr: 0.0096\n",
            "Epoch 3/7\n",
            "782/782 [==============================] - 33s 42ms/step - loss: 3.5337 - accuracy: 0.1666 - val_loss: 3.6596 - val_accuracy: 0.1479 - lr: 0.0095\n",
            "Epoch 4/7\n",
            "782/782 [==============================] - 34s 44ms/step - loss: 3.4813 - accuracy: 0.1755 - val_loss: 4.0835 - val_accuracy: 0.0879 - lr: 0.0093\n",
            "Epoch 5/7\n",
            "782/782 [==============================] - 34s 44ms/step - loss: 3.4424 - accuracy: 0.1843 - val_loss: 3.7345 - val_accuracy: 0.1454 - lr: 0.0091\n",
            "Epoch 6/7\n",
            "782/782 [==============================] - 33s 42ms/step - loss: 3.4239 - accuracy: 0.1899 - val_loss: 3.6226 - val_accuracy: 0.1678 - lr: 0.0089\n",
            "Epoch 7/7\n",
            "782/782 [==============================] - 33s 42ms/step - loss: 3.4066 - accuracy: 0.1929 - val_loss: 3.8577 - val_accuracy: 0.1467 - lr: 0.0087\n",
            "313/313 [==============================] - 3s 9ms/step - loss: 3.8577 - accuracy: 0.1467\n",
            "1563/1563 [==============================] - 12s 8ms/step - loss: 3.6286 - accuracy: 0.1682\n"
          ]
        },
        {
          "name": "stderr",
          "output_type": "stream",
          "text": [
            "\n",
            " 50%|█████     | 1/2 [04:13<04:13, 253.01s/it]\u001b[A"
          ]
        },
        {
          "name": "stdout",
          "output_type": "stream",
          "text": [
            "Test accuracy: 0.14669999480247498\n",
            "Training accuracy: 0.16821999847888947\n",
            "\n",
            "Experiment with 2 convolutional layers and 2 pooling layers:\n",
            "Epoch 1/7\n",
            "782/782 [==============================] - 38s 48ms/step - loss: 4.2435 - accuracy: 0.0579 - val_loss: 3.8306 - val_accuracy: 0.1160 - lr: 0.0098\n",
            "Epoch 2/7\n",
            "782/782 [==============================] - 33s 42ms/step - loss: 3.7570 - accuracy: 0.1275 - val_loss: 3.7041 - val_accuracy: 0.1359 - lr: 0.0096\n",
            "Epoch 3/7\n",
            "782/782 [==============================] - 33s 42ms/step - loss: 3.6342 - accuracy: 0.1498 - val_loss: 3.9871 - val_accuracy: 0.1125 - lr: 0.0095\n",
            "Epoch 4/7\n",
            "782/782 [==============================] - 34s 43ms/step - loss: 3.5652 - accuracy: 0.1635 - val_loss: 3.7962 - val_accuracy: 0.1411 - lr: 0.0093\n",
            "Epoch 5/7\n",
            "782/782 [==============================] - 34s 43ms/step - loss: 3.5345 - accuracy: 0.1700 - val_loss: 3.6797 - val_accuracy: 0.1525 - lr: 0.0091\n",
            "Epoch 6/7\n",
            "782/782 [==============================] - 33s 42ms/step - loss: 3.5036 - accuracy: 0.1731 - val_loss: 3.6244 - val_accuracy: 0.1613 - lr: 0.0089\n",
            "Epoch 7/7\n",
            "782/782 [==============================] - 33s 43ms/step - loss: 3.4810 - accuracy: 0.1801 - val_loss: 3.5474 - val_accuracy: 0.1730 - lr: 0.0087\n",
            "313/313 [==============================] - 2s 7ms/step - loss: 3.5474 - accuracy: 0.1730\n",
            "1563/1563 [==============================] - 12s 8ms/step - loss: 3.4145 - accuracy: 0.1870\n"
          ]
        },
        {
          "name": "stderr",
          "output_type": "stream",
          "text": [
            "\n",
            "100%|██████████| 2/2 [08:53<00:00, 269.16s/it]\u001b[A\n",
            " 33%|███▎      | 1/3 [08:53<17:47, 533.51s/it]"
          ]
        },
        {
          "name": "stdout",
          "output_type": "stream",
          "text": [
            "Test accuracy: 0.17299999296665192\n",
            "Training accuracy: 0.18700000643730164\n"
          ]
        },
        {
          "name": "stderr",
          "output_type": "stream",
          "text": [
            "\n",
            "  0%|          | 0/2 [00:00<?, ?it/s]\u001b[A"
          ]
        },
        {
          "name": "stdout",
          "output_type": "stream",
          "text": [
            "\n",
            "Experiment with 3 convolutional layers and 1 pooling layers:\n",
            "Epoch 1/7\n",
            "782/782 [==============================] - 37s 47ms/step - loss: 4.6191 - accuracy: 0.0090 - val_loss: 4.6074 - val_accuracy: 0.0100 - lr: 0.0098\n",
            "Epoch 2/7\n",
            "782/782 [==============================] - 38s 49ms/step - loss: 4.6092 - accuracy: 0.0090 - val_loss: 4.6069 - val_accuracy: 0.0100 - lr: 0.0096\n",
            "Epoch 3/7\n",
            "782/782 [==============================] - 36s 46ms/step - loss: 4.6090 - accuracy: 0.0099 - val_loss: 4.6070 - val_accuracy: 0.0100 - lr: 0.0095\n",
            "Epoch 4/7\n",
            "782/782 [==============================] - 36s 46ms/step - loss: 4.6091 - accuracy: 0.0093 - val_loss: 4.6071 - val_accuracy: 0.0100 - lr: 0.0093\n",
            "Epoch 5/7\n",
            "782/782 [==============================] - 37s 47ms/step - loss: 4.6089 - accuracy: 0.0092 - val_loss: 4.6068 - val_accuracy: 0.0100 - lr: 0.0091\n",
            "Epoch 6/7\n",
            "782/782 [==============================] - 36s 46ms/step - loss: 4.6089 - accuracy: 0.0094 - val_loss: 4.6069 - val_accuracy: 0.0100 - lr: 0.0089\n",
            "Epoch 7/7\n",
            "782/782 [==============================] - 36s 46ms/step - loss: 4.6089 - accuracy: 0.0091 - val_loss: 4.6067 - val_accuracy: 0.0100 - lr: 0.0087\n",
            "313/313 [==============================] - 2s 8ms/step - loss: 4.6067 - accuracy: 0.0100\n",
            "1563/1563 [==============================] - 12s 8ms/step - loss: 4.6067 - accuracy: 0.0100\n"
          ]
        },
        {
          "name": "stderr",
          "output_type": "stream",
          "text": [
            "\n",
            " 50%|█████     | 1/2 [04:34<04:34, 274.28s/it]\u001b[A"
          ]
        },
        {
          "name": "stdout",
          "output_type": "stream",
          "text": [
            "Test accuracy: 0.009999999776482582\n",
            "Training accuracy: 0.009999999776482582\n",
            "\n",
            "Experiment with 3 convolutional layers and 2 pooling layers:\n",
            "Epoch 1/7\n",
            "782/782 [==============================] - 36s 45ms/step - loss: 4.3239 - accuracy: 0.0434 - val_loss: 4.5676 - val_accuracy: 0.0438 - lr: 0.0098\n",
            "Epoch 2/7\n",
            "782/782 [==============================] - 38s 48ms/step - loss: 3.8557 - accuracy: 0.1087 - val_loss: 3.8606 - val_accuracy: 0.1126 - lr: 0.0096\n",
            "Epoch 3/7\n",
            "782/782 [==============================] - 35s 44ms/step - loss: 3.7060 - accuracy: 0.1323 - val_loss: 5.0383 - val_accuracy: 0.0747 - lr: 0.0095\n",
            "Epoch 4/7\n",
            "782/782 [==============================] - 35s 44ms/step - loss: 3.6528 - accuracy: 0.1417 - val_loss: 4.0075 - val_accuracy: 0.1093 - lr: 0.0093\n",
            "Epoch 5/7\n",
            "782/782 [==============================] - 35s 44ms/step - loss: 3.6255 - accuracy: 0.1459 - val_loss: 3.8698 - val_accuracy: 0.1197 - lr: 0.0091\n",
            "Epoch 6/7\n",
            "782/782 [==============================] - 35s 45ms/step - loss: 3.6193 - accuracy: 0.1464 - val_loss: 4.1013 - val_accuracy: 0.1147 - lr: 0.0089\n",
            "Epoch 7/7\n",
            "782/782 [==============================] - 35s 45ms/step - loss: 3.6061 - accuracy: 0.1478 - val_loss: 3.9171 - val_accuracy: 0.1127 - lr: 0.0087\n",
            "313/313 [==============================] - 3s 9ms/step - loss: 3.9171 - accuracy: 0.1127\n",
            "1563/1563 [==============================] - 13s 8ms/step - loss: 3.8550 - accuracy: 0.1165\n"
          ]
        },
        {
          "name": "stderr",
          "output_type": "stream",
          "text": [
            "\n",
            "100%|██████████| 2/2 [09:26<00:00, 284.58s/it]\u001b[A\n",
            " 67%|██████▋   | 2/3 [18:19<09:12, 552.67s/it]"
          ]
        },
        {
          "name": "stdout",
          "output_type": "stream",
          "text": [
            "Test accuracy: 0.11270000040531158\n",
            "Training accuracy: 0.11653999984264374\n"
          ]
        },
        {
          "name": "stderr",
          "output_type": "stream",
          "text": [
            "\n",
            "  0%|          | 0/2 [00:00<?, ?it/s]\u001b[A\n",
            " 67%|██████▋   | 2/3 [18:19<09:09, 549.83s/it]"
          ]
        },
        {
          "name": "stdout",
          "output_type": "stream",
          "text": [
            "\n",
            "Experiment with 4 convolutional layers and 1 pooling layers:\n",
            "Training and evaluation completed.\n"
          ]
        },
        {
          "name": "stderr",
          "output_type": "stream",
          "text": [
            "\n"
          ]
        }
      ],
      "source": [
        "# Scheduler for Custom learning rate \n",
        "def lr_scheduler(epoch, lr):\n",
        "    # Decrease learning rate from 0.01 to 0.001 at a rate of 0.00018\n",
        "    return lr - 0.00018 if lr > 0.001 else 0.001\n",
        "\n",
        "# Training and evaluating the model\n",
        "def train_and_evaluate():\n",
        "    results = []\n",
        "    try:\n",
        "        # Loading the CIFAR-100 dataset\n",
        "        (x_train, y_train), (x_test, y_test) = cifar100.load_data()\n",
        "\n",
        "        # Normalizing pixel values to be between 0 and 1\n",
        "        x_train, x_test = x_train / 255.0, x_test / 255.0\n",
        "\n",
        "        print('CIFAR-100 dataset loaded successfully.')\n",
        "\n",
        "        # Experiment with different number of convolution and pooling layers\n",
        "        for num_conv_layers in tqdm(range(2, 5)):\n",
        "            for num_pooling_layers in tqdm(range(1, 3), leave=False):\n",
        "                print(f\"\\nExperiment with {num_conv_layers} convolutional layers and {num_pooling_layers} pooling layers:\")\n",
        "\n",
        "                model = create_cnn_model(num_conv_layers, num_pooling_layers)\n",
        "\n",
        "                # Defining the optimizer with custom learning rate scheduler\n",
        "                optimizer = RMSprop(learning_rate=0.01)\n",
        "\n",
        "                model.compile(optimizer=optimizer,\n",
        "                              loss='sparse_categorical_crossentropy',\n",
        "                              metrics=['accuracy'])\n",
        "\n",
        "                # Define learning rate scheduler callback\n",
        "                lr_callback = LearningRateScheduler(lr_scheduler)\n",
        "\n",
        "                # Training the model on 7 epochs (Recommanded by Professor) \n",
        "                history = model.fit(x_train, y_train, epochs=7, batch_size=64,\n",
        "                                    validation_data=(x_test, y_test), callbacks=[lr_callback])\n",
        "\n",
        "                # Evaluating the model\n",
        "                test_loss, test_acc = model.evaluate(x_test, y_test)\n",
        "                train_loss, train_acc = model.evaluate(x_train, y_train)\n",
        "                print(\"Test accuracy:\", test_acc)\n",
        "                print(\"Training accuracy:\", train_acc)\n",
        "\n",
        "              \n",
        "                results.append((num_conv_layers, num_pooling_layers, train_acc, test_acc, history.history['accuracy'], history.history['val_accuracy']))\n",
        "    finally:\n",
        "        print(\"Training and evaluation completed.\")\n",
        "        return results\n",
        "\n",
        "results = train_and_evaluate()\n",
        "\n",
        "\n"
      ]
    },
    {
      "cell_type": "code",
      "execution_count": 21,
      "metadata": {
        "colab": {
          "base_uri": "https://localhost:8080/"
        },
        "id": "0dqUPGz3UTck",
        "outputId": "7eebc8ec-d2db-4a0e-f2a5-8e90a246630b"
      },
      "outputs": [
        {
          "name": "stdout",
          "output_type": "stream",
          "text": [
            "\n",
            "Results:\n",
            "\n",
            "Details for each experiement: \n",
            "+--------------------+---------+\n",
            "| Metric             |   Value |\n",
            "+====================+=========+\n",
            "| Convolution Layers | 2       |\n",
            "+--------------------+---------+\n",
            "| Pooling Layers     | 1       |\n",
            "+--------------------+---------+\n",
            "| Training Accuracy  | 0.16822 |\n",
            "+--------------------+---------+\n",
            "| Test Accuracy      | 0.1467  |\n",
            "+--------------------+---------+\n",
            "\n",
            "Details for each experiement: \n",
            "+--------------------+---------+\n",
            "| Metric             |   Value |\n",
            "+====================+=========+\n",
            "| Convolution Layers |   2     |\n",
            "+--------------------+---------+\n",
            "| Pooling Layers     |   2     |\n",
            "+--------------------+---------+\n",
            "| Training Accuracy  |   0.187 |\n",
            "+--------------------+---------+\n",
            "| Test Accuracy      |   0.173 |\n",
            "+--------------------+---------+\n",
            "\n",
            "Details for each experiement: \n",
            "+--------------------+---------+\n",
            "| Metric             |   Value |\n",
            "+====================+=========+\n",
            "| Convolution Layers |    3    |\n",
            "+--------------------+---------+\n",
            "| Pooling Layers     |    1    |\n",
            "+--------------------+---------+\n",
            "| Training Accuracy  |    0.01 |\n",
            "+--------------------+---------+\n",
            "| Test Accuracy      |    0.01 |\n",
            "+--------------------+---------+\n",
            "\n",
            "Details for each experiement: \n",
            "+--------------------+---------+\n",
            "| Metric             |   Value |\n",
            "+====================+=========+\n",
            "| Convolution Layers | 3       |\n",
            "+--------------------+---------+\n",
            "| Pooling Layers     | 2       |\n",
            "+--------------------+---------+\n",
            "| Training Accuracy  | 0.11654 |\n",
            "+--------------------+---------+\n",
            "| Test Accuracy      | 0.1127  |\n",
            "+--------------------+---------+\n"
          ]
        }
      ],
      "source": [
        "#Functions for printing our results in table format\n",
        "def display_experiment_details(result):\n",
        "    experiment_details = [\n",
        "        [\"Convolution Layers\", result[0]],\n",
        "        [\"Pooling Layers\", result[1]],\n",
        "        [\"Training Accuracy\", result[2]],\n",
        "        [\"Test Accuracy\", result[3]]\n",
        "    ]\n",
        "    print(\"\\nDetails for each experiement: \")\n",
        "    print(tabulate(experiment_details, headers=[\"Metric\", \"Value\"], tablefmt=\"grid\"))\n",
        "\n",
        "def display_results(results):\n",
        "    print(\"\\nResults:\")\n",
        "    for result in results:\n",
        "        display_experiment_details(result)\n",
        "\n",
        "display_results(results)\n"
      ]
    }
  ],
  "metadata": {
    "colab": {
      "provenance": [],
      "toc_visible": true
    },
    "kernelspec": {
      "display_name": "Python 3",
      "name": "python3"
    },
    "language_info": {
      "name": "python"
    }
  },
  "nbformat": 4,
  "nbformat_minor": 0
}
